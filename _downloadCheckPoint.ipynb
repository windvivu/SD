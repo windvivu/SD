{
 "cells": [
  {
   "cell_type": "code",
   "execution_count": null,
   "id": "3196521f-d6cc-48c9-acc0-ca89724858ce",
   "metadata": {
    "tags": []
   },
   "outputs": [],
   "source": [
    "%cd /workspace/sd/stable-diffusion-webui/models/Stable-diffusion"
   ]
  },
  {
   "cell_type": "code",
   "execution_count": null,
   "id": "a7a1b9c8-1260-4900-aa90-5442c852ad18",
   "metadata": {
    "tags": []
   },
   "outputs": [],
   "source": [
    "linkckp=\"https://civitai.com/api/download/models/11745?type=VAE\""
   ]
  },
  {
   "cell_type": "code",
   "execution_count": null,
   "id": "5e868f50-9da1-4ea7-bb78-4df6c046f1b2",
   "metadata": {
    "tags": []
   },
   "outputs": [],
   "source": [
    "if linkckp != \"\":\n",
    "    !wget $linkckp --content-disposition\n",
    "else:\n",
    "    print(\"No link\")"
   ]
  },
  {
   "cell_type": "code",
   "execution_count": null,
   "id": "a3e4119f-fc14-43e3-a9a7-2bce1e0da3c1",
   "metadata": {
    "tags": []
   },
   "outputs": [],
   "source": [
    "!ls\n"
   ]
  }
 ],
 "metadata": {
  "kernelspec": {
   "display_name": "Python 3 (ipykernel)",
   "language": "python",
   "name": "python3"
  },
  "language_info": {
   "codemirror_mode": {
    "name": "ipython",
    "version": 3
   },
   "file_extension": ".py",
   "mimetype": "text/x-python",
   "name": "python",
   "nbconvert_exporter": "python",
   "pygments_lexer": "ipython3",
   "version": "3.10.6"
  }
 },
 "nbformat": 4,
 "nbformat_minor": 5
}
