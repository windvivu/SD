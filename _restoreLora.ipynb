{
 "cells": [
  {
   "cell_type": "code",
   "execution_count": null,
   "id": "faa2827e-1672-486b-9c22-ff81b06c3fef",
   "metadata": {
    "tags": []
   },
   "outputs": [],
   "source": [
    "with open(\"listLora.txt\", \"r\") as file:\n",
    "    textLink = file.readlines()"
   ]
  },
  {
   "cell_type": "code",
   "execution_count": null,
   "id": "3196521f-d6cc-48c9-acc0-ca89724858ce",
   "metadata": {
    "tags": []
   },
   "outputs": [],
   "source": [
    "%cd /workspace/sd/stable-diffusion-webui/models/Lora"
   ]
  },
  {
   "cell_type": "code",
   "execution_count": null,
   "id": "52ded3f0-89f3-4832-afcd-229d561f62d6",
   "metadata": {
    "tags": []
   },
   "outputs": [],
   "source": [
    "for linktext in textLink:\n",
    "    linktxt = linktext.split(\"->\")\n",
    "    if len(linktxt) == 3:\n",
    "        link = linktxt[1].strip()\n",
    "        filename = linktxt[2].strip()\n",
    "        !wget $link -O $filename\n",
    "    elif len(linktxt) ==2:\n",
    "        link = linktxt[1].strip()\n",
    "        !wget $link --content-disposition"
   ]
  },
  {
   "cell_type": "code",
   "execution_count": null,
   "id": "a3e4119f-fc14-43e3-a9a7-2bce1e0da3c1",
   "metadata": {
    "tags": []
   },
   "outputs": [],
   "source": [
    "!ls\n"
   ]
  }
 ],
 "metadata": {
  "kernelspec": {
   "display_name": "Python 3 (ipykernel)",
   "language": "python",
   "name": "python3"
  },
  "language_info": {
   "codemirror_mode": {
    "name": "ipython",
    "version": 3
   },
   "file_extension": ".py",
   "mimetype": "text/x-python",
   "name": "python",
   "nbconvert_exporter": "python",
   "pygments_lexer": "ipython3",
   "version": "3.10.6"
  }
 },
 "nbformat": 4,
 "nbformat_minor": 5
}
